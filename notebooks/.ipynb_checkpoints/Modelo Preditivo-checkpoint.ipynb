{
 "cells": [
  {
   "cell_type": "markdown",
   "id": "499fa508-be7c-44cf-a85f-b6f0a859096c",
   "metadata": {
    "jp-MarkdownHeadingCollapsed": true
   },
   "source": [
    "# Bibliotecas"
   ]
  },
  {
   "cell_type": "code",
   "execution_count": 1,
   "id": "67af1092-9f39-4a02-b53a-38fa8be47378",
   "metadata": {},
   "outputs": [],
   "source": [
    "import numpy as np\n",
    "import pandas as pd\n",
    "from matplotlib import pyplot as plt\n",
    "import seaborn as sns\n",
    "\n",
    "from sklearn.preprocessing import MinMaxScaler\n",
    "from sklearn.preprocessing import OneHotEncoder\n",
    "from sklearn.model_selection import train_test_split\n",
    "\n",
    "from sklearn.linear_model import LogisticRegression\n",
    "from sklearn.model_selection import GridSearchCV\n",
    "\n",
    "from sklearn.metrics import accuracy_score, classification_report\n",
    "from sklearn.metrics import confusion_matrix\n",
    "\n",
    "import statsmodels.api as sm\n",
    "\n",
    "import warnings"
   ]
  },
  {
   "cell_type": "markdown",
   "id": "231b3ad5-3556-4acd-8a70-ae64434a2a45",
   "metadata": {
    "jp-MarkdownHeadingCollapsed": true
   },
   "source": [
    "# Carregamento dos Dados"
   ]
  },
  {
   "cell_type": "code",
   "execution_count": 2,
   "id": "cb29b3fa-603e-46d6-9688-8cc6a7b44dc7",
   "metadata": {},
   "outputs": [],
   "source": [
    "# Importando o dataset\n",
    "df = pd.read_csv('Base de Dados/UTI_tratado.csv', sep=';', encoding='utf-8')"
   ]
  },
  {
   "cell_type": "code",
   "execution_count": 3,
   "id": "f60a5ce2-8aa7-482b-b3c1-9636aeb10c9f",
   "metadata": {},
   "outputs": [
    {
     "data": {
      "text/html": [
       "<div>\n",
       "<style scoped>\n",
       "    .dataframe tbody tr th:only-of-type {\n",
       "        vertical-align: middle;\n",
       "    }\n",
       "\n",
       "    .dataframe tbody tr th {\n",
       "        vertical-align: top;\n",
       "    }\n",
       "\n",
       "    .dataframe thead th {\n",
       "        text-align: right;\n",
       "    }\n",
       "</style>\n",
       "<table border=\"1\" class=\"dataframe\">\n",
       "  <thead>\n",
       "    <tr style=\"text-align: right;\">\n",
       "      <th></th>\n",
       "      <th>ID Registro</th>\n",
       "      <th>Idade</th>\n",
       "      <th>Data de Internação CTI</th>\n",
       "      <th>IMC</th>\n",
       "      <th>Linha de Cuidado</th>\n",
       "      <th>HIV</th>\n",
       "      <th>Tuberculose</th>\n",
       "      <th>AIDS</th>\n",
       "      <th>Frequência Cardíaca</th>\n",
       "      <th>Frequência Respiratória</th>\n",
       "      <th>Creatinina</th>\n",
       "      <th>Leucócitos</th>\n",
       "      <th>pH</th>\n",
       "      <th>Contagem de Plaquetas</th>\n",
       "      <th>Score Respiratório</th>\n",
       "      <th>Bilirrubina</th>\n",
       "      <th>Desfecho UTI</th>\n",
       "      <th>Saída UTI</th>\n",
       "      <th>Tempo na UTI</th>\n",
       "    </tr>\n",
       "  </thead>\n",
       "  <tbody>\n",
       "    <tr>\n",
       "      <th>0</th>\n",
       "      <td>3</td>\n",
       "      <td>46.336207</td>\n",
       "      <td>2023-03-29</td>\n",
       "      <td>26.640000</td>\n",
       "      <td>DFA</td>\n",
       "      <td>Unchecked</td>\n",
       "      <td>Unchecked</td>\n",
       "      <td>Unchecked</td>\n",
       "      <td>113.0</td>\n",
       "      <td>27.0</td>\n",
       "      <td>4.9</td>\n",
       "      <td>28.2</td>\n",
       "      <td>7.330000</td>\n",
       "      <td>17.0</td>\n",
       "      <td>3.000000</td>\n",
       "      <td>6.800000</td>\n",
       "      <td>Transferência inter-hospitalar para outra Enfe...</td>\n",
       "      <td>2023-04-13</td>\n",
       "      <td>15.0</td>\n",
       "    </tr>\n",
       "    <tr>\n",
       "      <th>1</th>\n",
       "      <td>5</td>\n",
       "      <td>46.336207</td>\n",
       "      <td>2023-04-05</td>\n",
       "      <td>20.534264</td>\n",
       "      <td>Tuberculose</td>\n",
       "      <td>Unchecked</td>\n",
       "      <td>Checked</td>\n",
       "      <td>Unchecked</td>\n",
       "      <td>114.0</td>\n",
       "      <td>16.0</td>\n",
       "      <td>0.9</td>\n",
       "      <td>14.2</td>\n",
       "      <td>7.366317</td>\n",
       "      <td>352.0</td>\n",
       "      <td>1.077586</td>\n",
       "      <td>1.089687</td>\n",
       "      <td>Óbito na UTI</td>\n",
       "      <td>2023-04-05</td>\n",
       "      <td>0.0</td>\n",
       "    </tr>\n",
       "    <tr>\n",
       "      <th>2</th>\n",
       "      <td>8</td>\n",
       "      <td>46.336207</td>\n",
       "      <td>2023-04-10</td>\n",
       "      <td>19.810000</td>\n",
       "      <td>HIV Resp.</td>\n",
       "      <td>Checked</td>\n",
       "      <td>Unchecked</td>\n",
       "      <td>Checked</td>\n",
       "      <td>177.0</td>\n",
       "      <td>35.0</td>\n",
       "      <td>0.6</td>\n",
       "      <td>14.4</td>\n",
       "      <td>7.180000</td>\n",
       "      <td>413.0</td>\n",
       "      <td>3.000000</td>\n",
       "      <td>0.500000</td>\n",
       "      <td>Óbito na UTI</td>\n",
       "      <td>2023-04-11</td>\n",
       "      <td>1.0</td>\n",
       "    </tr>\n",
       "    <tr>\n",
       "      <th>3</th>\n",
       "      <td>9</td>\n",
       "      <td>46.336207</td>\n",
       "      <td>2023-03-19</td>\n",
       "      <td>28.960000</td>\n",
       "      <td>SRAG</td>\n",
       "      <td>Unchecked</td>\n",
       "      <td>Unchecked</td>\n",
       "      <td>Unchecked</td>\n",
       "      <td>40.0</td>\n",
       "      <td>20.0</td>\n",
       "      <td>3.8</td>\n",
       "      <td>15.0</td>\n",
       "      <td>7.180000</td>\n",
       "      <td>190.0</td>\n",
       "      <td>0.000000</td>\n",
       "      <td>0.080000</td>\n",
       "      <td>Óbito na UTI</td>\n",
       "      <td>2023-04-11</td>\n",
       "      <td>23.0</td>\n",
       "    </tr>\n",
       "    <tr>\n",
       "      <th>4</th>\n",
       "      <td>10</td>\n",
       "      <td>46.336207</td>\n",
       "      <td>2023-04-08</td>\n",
       "      <td>20.700000</td>\n",
       "      <td>Tuberculose</td>\n",
       "      <td>Unchecked</td>\n",
       "      <td>Checked</td>\n",
       "      <td>Unchecked</td>\n",
       "      <td>143.0</td>\n",
       "      <td>34.0</td>\n",
       "      <td>1.5</td>\n",
       "      <td>12.1</td>\n",
       "      <td>7.090000</td>\n",
       "      <td>361.0</td>\n",
       "      <td>3.000000</td>\n",
       "      <td>0.100000</td>\n",
       "      <td>Óbito na UTI</td>\n",
       "      <td>2023-04-09</td>\n",
       "      <td>1.0</td>\n",
       "    </tr>\n",
       "  </tbody>\n",
       "</table>\n",
       "</div>"
      ],
      "text/plain": [
       "   ID Registro      Idade Data de Internação CTI        IMC Linha de Cuidado  \\\n",
       "0            3  46.336207             2023-03-29  26.640000              DFA   \n",
       "1            5  46.336207             2023-04-05  20.534264      Tuberculose   \n",
       "2            8  46.336207             2023-04-10  19.810000        HIV Resp.   \n",
       "3            9  46.336207             2023-03-19  28.960000             SRAG   \n",
       "4           10  46.336207             2023-04-08  20.700000      Tuberculose   \n",
       "\n",
       "         HIV Tuberculose       AIDS  Frequência Cardíaca  \\\n",
       "0  Unchecked   Unchecked  Unchecked                113.0   \n",
       "1  Unchecked     Checked  Unchecked                114.0   \n",
       "2    Checked   Unchecked    Checked                177.0   \n",
       "3  Unchecked   Unchecked  Unchecked                 40.0   \n",
       "4  Unchecked     Checked  Unchecked                143.0   \n",
       "\n",
       "   Frequência Respiratória  Creatinina  Leucócitos        pH  \\\n",
       "0                     27.0         4.9        28.2  7.330000   \n",
       "1                     16.0         0.9        14.2  7.366317   \n",
       "2                     35.0         0.6        14.4  7.180000   \n",
       "3                     20.0         3.8        15.0  7.180000   \n",
       "4                     34.0         1.5        12.1  7.090000   \n",
       "\n",
       "   Contagem de Plaquetas  Score Respiratório  Bilirrubina  \\\n",
       "0                   17.0            3.000000     6.800000   \n",
       "1                  352.0            1.077586     1.089687   \n",
       "2                  413.0            3.000000     0.500000   \n",
       "3                  190.0            0.000000     0.080000   \n",
       "4                  361.0            3.000000     0.100000   \n",
       "\n",
       "                                        Desfecho UTI   Saída UTI  Tempo na UTI  \n",
       "0  Transferência inter-hospitalar para outra Enfe...  2023-04-13          15.0  \n",
       "1                                       Óbito na UTI  2023-04-05           0.0  \n",
       "2                                       Óbito na UTI  2023-04-11           1.0  \n",
       "3                                       Óbito na UTI  2023-04-11          23.0  \n",
       "4                                       Óbito na UTI  2023-04-09           1.0  "
      ]
     },
     "execution_count": 3,
     "metadata": {},
     "output_type": "execute_result"
    }
   ],
   "source": [
    "# Exibir amostra do dataset\n",
    "df.head()"
   ]
  },
  {
   "cell_type": "code",
   "execution_count": 4,
   "id": "a7203a1e-5f4d-44c4-9625-8a0a566d4d2a",
   "metadata": {},
   "outputs": [
    {
     "data": {
      "text/plain": [
       "(350, 19)"
      ]
     },
     "execution_count": 4,
     "metadata": {},
     "output_type": "execute_result"
    }
   ],
   "source": [
    "# Análise de linhas e colunas\n",
    "df.shape"
   ]
  },
  {
   "cell_type": "code",
   "execution_count": 5,
   "id": "47da7235-c19d-4332-8756-c5ad7ce033b3",
   "metadata": {},
   "outputs": [
    {
     "data": {
      "text/html": [
       "<div>\n",
       "<style scoped>\n",
       "    .dataframe tbody tr th:only-of-type {\n",
       "        vertical-align: middle;\n",
       "    }\n",
       "\n",
       "    .dataframe tbody tr th {\n",
       "        vertical-align: top;\n",
       "    }\n",
       "\n",
       "    .dataframe thead th {\n",
       "        text-align: right;\n",
       "    }\n",
       "</style>\n",
       "<table border=\"1\" class=\"dataframe\">\n",
       "  <thead>\n",
       "    <tr style=\"text-align: right;\">\n",
       "      <th></th>\n",
       "      <th>ID Registro</th>\n",
       "      <th>Idade</th>\n",
       "      <th>IMC</th>\n",
       "      <th>Frequência Cardíaca</th>\n",
       "      <th>Frequência Respiratória</th>\n",
       "      <th>Creatinina</th>\n",
       "      <th>Leucócitos</th>\n",
       "      <th>pH</th>\n",
       "      <th>Contagem de Plaquetas</th>\n",
       "      <th>Score Respiratório</th>\n",
       "      <th>Bilirrubina</th>\n",
       "      <th>Tempo na UTI</th>\n",
       "    </tr>\n",
       "  </thead>\n",
       "  <tbody>\n",
       "    <tr>\n",
       "      <th>count</th>\n",
       "      <td>350.000000</td>\n",
       "      <td>350.000000</td>\n",
       "      <td>350.000000</td>\n",
       "      <td>350.000000</td>\n",
       "      <td>350.000000</td>\n",
       "      <td>350.000000</td>\n",
       "      <td>350.000000</td>\n",
       "      <td>350.000000</td>\n",
       "      <td>350.000000</td>\n",
       "      <td>350.000000</td>\n",
       "      <td>350.000000</td>\n",
       "      <td>350.000000</td>\n",
       "    </tr>\n",
       "    <tr>\n",
       "      <th>mean</th>\n",
       "      <td>213.505714</td>\n",
       "      <td>46.407099</td>\n",
       "      <td>20.480827</td>\n",
       "      <td>104.760000</td>\n",
       "      <td>25.562857</td>\n",
       "      <td>1.691943</td>\n",
       "      <td>10.505914</td>\n",
       "      <td>7.366018</td>\n",
       "      <td>224.792571</td>\n",
       "      <td>1.069901</td>\n",
       "      <td>1.089341</td>\n",
       "      <td>13.208571</td>\n",
       "    </tr>\n",
       "    <tr>\n",
       "      <th>std</th>\n",
       "      <td>129.189378</td>\n",
       "      <td>16.535184</td>\n",
       "      <td>5.843555</td>\n",
       "      <td>30.350571</td>\n",
       "      <td>6.891737</td>\n",
       "      <td>1.796210</td>\n",
       "      <td>6.765844</td>\n",
       "      <td>0.121202</td>\n",
       "      <td>146.683521</td>\n",
       "      <td>1.194934</td>\n",
       "      <td>3.231559</td>\n",
       "      <td>15.945086</td>\n",
       "    </tr>\n",
       "    <tr>\n",
       "      <th>min</th>\n",
       "      <td>3.000000</td>\n",
       "      <td>16.000000</td>\n",
       "      <td>9.130000</td>\n",
       "      <td>37.000000</td>\n",
       "      <td>7.000000</td>\n",
       "      <td>0.200000</td>\n",
       "      <td>0.300000</td>\n",
       "      <td>6.900000</td>\n",
       "      <td>2.000000</td>\n",
       "      <td>0.000000</td>\n",
       "      <td>0.030000</td>\n",
       "      <td>0.000000</td>\n",
       "    </tr>\n",
       "    <tr>\n",
       "      <th>25%</th>\n",
       "      <td>102.250000</td>\n",
       "      <td>33.000000</td>\n",
       "      <td>17.017500</td>\n",
       "      <td>87.000000</td>\n",
       "      <td>21.000000</td>\n",
       "      <td>0.792500</td>\n",
       "      <td>5.500000</td>\n",
       "      <td>7.320000</td>\n",
       "      <td>116.250000</td>\n",
       "      <td>0.000000</td>\n",
       "      <td>0.200000</td>\n",
       "      <td>4.000000</td>\n",
       "    </tr>\n",
       "    <tr>\n",
       "      <th>50%</th>\n",
       "      <td>194.500000</td>\n",
       "      <td>45.500000</td>\n",
       "      <td>20.075000</td>\n",
       "      <td>110.000000</td>\n",
       "      <td>25.000000</td>\n",
       "      <td>1.000000</td>\n",
       "      <td>9.495000</td>\n",
       "      <td>7.400000</td>\n",
       "      <td>200.000000</td>\n",
       "      <td>1.000000</td>\n",
       "      <td>0.400000</td>\n",
       "      <td>8.000000</td>\n",
       "    </tr>\n",
       "    <tr>\n",
       "      <th>75%</th>\n",
       "      <td>338.750000</td>\n",
       "      <td>57.750000</td>\n",
       "      <td>23.202500</td>\n",
       "      <td>127.000000</td>\n",
       "      <td>30.000000</td>\n",
       "      <td>1.707500</td>\n",
       "      <td>13.590000</td>\n",
       "      <td>7.430000</td>\n",
       "      <td>322.500000</td>\n",
       "      <td>2.000000</td>\n",
       "      <td>0.757500</td>\n",
       "      <td>17.000000</td>\n",
       "    </tr>\n",
       "    <tr>\n",
       "      <th>max</th>\n",
       "      <td>445.000000</td>\n",
       "      <td>92.000000</td>\n",
       "      <td>62.500000</td>\n",
       "      <td>177.000000</td>\n",
       "      <td>47.000000</td>\n",
       "      <td>12.000000</td>\n",
       "      <td>41.900000</td>\n",
       "      <td>7.930000</td>\n",
       "      <td>769.000000</td>\n",
       "      <td>4.000000</td>\n",
       "      <td>45.000000</td>\n",
       "      <td>131.000000</td>\n",
       "    </tr>\n",
       "  </tbody>\n",
       "</table>\n",
       "</div>"
      ],
      "text/plain": [
       "       ID Registro       Idade         IMC  Frequência Cardíaca  \\\n",
       "count   350.000000  350.000000  350.000000           350.000000   \n",
       "mean    213.505714   46.407099   20.480827           104.760000   \n",
       "std     129.189378   16.535184    5.843555            30.350571   \n",
       "min       3.000000   16.000000    9.130000            37.000000   \n",
       "25%     102.250000   33.000000   17.017500            87.000000   \n",
       "50%     194.500000   45.500000   20.075000           110.000000   \n",
       "75%     338.750000   57.750000   23.202500           127.000000   \n",
       "max     445.000000   92.000000   62.500000           177.000000   \n",
       "\n",
       "       Frequência Respiratória  Creatinina  Leucócitos          pH  \\\n",
       "count               350.000000  350.000000  350.000000  350.000000   \n",
       "mean                 25.562857    1.691943   10.505914    7.366018   \n",
       "std                   6.891737    1.796210    6.765844    0.121202   \n",
       "min                   7.000000    0.200000    0.300000    6.900000   \n",
       "25%                  21.000000    0.792500    5.500000    7.320000   \n",
       "50%                  25.000000    1.000000    9.495000    7.400000   \n",
       "75%                  30.000000    1.707500   13.590000    7.430000   \n",
       "max                  47.000000   12.000000   41.900000    7.930000   \n",
       "\n",
       "       Contagem de Plaquetas  Score Respiratório  Bilirrubina  Tempo na UTI  \n",
       "count             350.000000          350.000000   350.000000    350.000000  \n",
       "mean              224.792571            1.069901     1.089341     13.208571  \n",
       "std               146.683521            1.194934     3.231559     15.945086  \n",
       "min                 2.000000            0.000000     0.030000      0.000000  \n",
       "25%               116.250000            0.000000     0.200000      4.000000  \n",
       "50%               200.000000            1.000000     0.400000      8.000000  \n",
       "75%               322.500000            2.000000     0.757500     17.000000  \n",
       "max               769.000000            4.000000    45.000000    131.000000  "
      ]
     },
     "execution_count": 5,
     "metadata": {},
     "output_type": "execute_result"
    }
   ],
   "source": [
    "# Análise descritiva do dataset\n",
    "df.describe()"
   ]
  },
  {
   "cell_type": "markdown",
   "id": "b3966334-191e-4595-96de-1792afc3f1c4",
   "metadata": {
    "jp-MarkdownHeadingCollapsed": true
   },
   "source": [
    "# Transformação de variáveis categóricas em numéricas"
   ]
  },
  {
   "cell_type": "code",
   "execution_count": 6,
   "id": "e8b4f257-885e-4d05-bab1-0b7f23fce0ad",
   "metadata": {},
   "outputs": [],
   "source": [
    "# Cópia do dataframe para transformar os dados\n",
    "df2 = pd.DataFrame.copy(df)"
   ]
  },
  {
   "cell_type": "code",
   "execution_count": 7,
   "id": "c0e023b9-7c54-497b-bb27-3e9d1ac83372",
   "metadata": {},
   "outputs": [],
   "source": [
    "# Ignorar avisos de warning\n",
    "warnings.filterwarnings(\"ignore\")"
   ]
  },
  {
   "cell_type": "code",
   "execution_count": 8,
   "id": "8672bf5d-a519-4f6a-bb0f-c50078fafc8d",
   "metadata": {},
   "outputs": [],
   "source": [
    "# Transformação de variáveis categóricas\n",
    "df2['Linha de Cuidado'].replace({'DFA': 0, 'Chagas ICC': 1, 'HIV (outros)': 2, 'HIV Neuro': 3, 'HIV Resp.': 4, 'HTLV': 5, 'Monkeypox': 6, 'SRAG': 7, 'Tuberculose': 8, 'Outros': 9}, inplace=True)\n",
    "df2['HIV'].replace({'Unchecked': 0, 'Checked': 1}, inplace=True)\n",
    "df2['Tuberculose'].replace({'Unchecked': 0, 'Checked': 1}, inplace=True)\n",
    "df2['AIDS'].replace({'Unchecked': 0, 'Checked': 1}, inplace=True)\n",
    "df2['Desfecho UTI'] = np.where(df2['Desfecho UTI'] == 'Óbito na UTI', 0, 1)"
   ]
  },
  {
   "cell_type": "markdown",
   "id": "53fea974-a48f-4051-902f-558bf1bb05ef",
   "metadata": {},
   "source": [
    "Linha de Cuidado = DFA (0), Chagas ICC (1), HIV (outros) (2), HIV Neuro (3), HIV Resp. (4), HTLV (5), Monkeypox (6), SRAG (7), Tuberculose (8), Outros (9)\n",
    "\n",
    "HIV = Unchecked (0), Checked (1)\n",
    "\n",
    "Tuberculose = Unchecked (0), Checked (1)\n",
    "\n",
    "AIDS = Unchecked (0), Checked (1)\n",
    "\n",
    "Desfecho UTI = Óbito na UTI (0), Outros (1)"
   ]
  },
  {
   "cell_type": "code",
   "execution_count": 9,
   "id": "115de89e-850d-4704-b93b-d87a3af6f37f",
   "metadata": {},
   "outputs": [
    {
     "data": {
      "image/png": "[encoded data removed]",
      "text/plain": [
       "<Figure size 2000x1500 with 6 Axes>"
      ]
     },
     "metadata": {},
     "output_type": "display_data"
    }
   ],
   "source": [
    "# Grid de variáveis transformadas\n",
    "fig, axes = plt.subplots(3, 2, figsize=(20, 15))\n",
    "\n",
    "sns.countplot(ax=axes[0, 0], y='Linha de Cuidado', data=df2)\n",
    "axes[0, 0].set_title('Linha de Cuidado')\n",
    "for container in axes[0, 0].containers:\n",
    "    axes[0, 0].bar_label(container, label_type='edge', fontsize=10, padding=3)\n",
    "\n",
    "sns.countplot(ax=axes[0, 1], y='HIV', data=df2)\n",
    "axes[0, 1].set_title('HIV')\n",
    "for container in axes[0, 1].containers:\n",
    "    axes[0, 1].bar_label(container, label_type='edge', fontsize=10, padding=3)\n",
    "\n",
    "sns.countplot(ax=axes[1, 0], y='Tuberculose', data=df2)\n",
    "axes[1, 0].set_title('Tuberculose')\n",
    "for container in axes[1, 0].containers:\n",
    "    axes[1, 0].bar_label(container, label_type='edge', fontsize=10, padding=3)\n",
    "\n",
    "sns.countplot(ax=axes[1, 1], y='AIDS', data=df2)\n",
    "axes[1, 1].set_title('AIDS')\n",
    "for container in axes[1, 1].containers:\n",
    "    axes[1, 1].bar_label(container, label_type='edge', fontsize=10, padding=3)\n",
    "\n",
    "sns.countplot(ax=axes[2, 0], y='Desfecho UTI', data=df2)\n",
    "axes[2, 0].set_title('Desfecho UTI')\n",
    "for container in axes[2, 0].containers:\n",
    "    axes[2, 0].bar_label(container, label_type='edge', fontsize=10, padding=3)\n",
    "\n",
    "# Remover o eixo vazio\n",
    "axes[2, 1].axis('off')\n",
    "\n",
    "plt.tight_layout()\n",
    "plt.show()"
   ]
  },
  {
   "cell_type": "code",
   "execution_count": 10,
   "id": "b97a6212-6834-4b9e-808d-7f98ab2ca874",
   "metadata": {},
   "outputs": [
    {
     "data": {
      "text/plain": [
       "ID Registro                  int64\n",
       "Idade                      float64\n",
       "Data de Internação CTI      object\n",
       "IMC                        float64\n",
       "Linha de Cuidado             int64\n",
       "HIV                          int64\n",
       "Tuberculose                  int64\n",
       "AIDS                         int64\n",
       "Frequência Cardíaca        float64\n",
       "Frequência Respiratória    float64\n",
       "Creatinina                 float64\n",
       "Leucócitos                 float64\n",
       "pH                         float64\n",
       "Contagem de Plaquetas      float64\n",
       "Score Respiratório         float64\n",
       "Bilirrubina                float64\n",
       "Desfecho UTI                 int32\n",
       "Saída UTI                   object\n",
       "Tempo na UTI               float64\n",
       "dtype: object"
      ]
     },
     "execution_count": 10,
     "metadata": {},
     "output_type": "execute_result"
    }
   ],
   "source": [
    "# Análise dos tipos de variáveis\n",
    "df2.dtypes"
   ]
  },
  {
   "cell_type": "markdown",
   "id": "07164599-a99a-436e-bb33-df5ca9be6abb",
   "metadata": {
    "jp-MarkdownHeadingCollapsed": true
   },
   "source": [
    "# Atributos previsores e alvo"
   ]
  },
  {
   "cell_type": "code",
   "execution_count": 11,
   "id": "9f858188-9894-4369-b3ff-7022d7651625",
   "metadata": {},
   "outputs": [
    {
     "data": {
      "text/plain": [
       "array([[46.33620689655172, 26.64, 0, ..., 17.0, 3.0, 6.8],\n",
       "       [46.33620689655172, 20.534263803680982, 8, ..., 352.0,\n",
       "        1.0775862068965518, 1.0896875],\n",
       "       [46.33620689655172, 19.81, 4, ..., 413.0, 3.0, 0.5],\n",
       "       ...,\n",
       "       [65.0, 21.16, 4, ..., 396.0, 1.0, 0.45],\n",
       "       [31.0, 12.24, 2, ..., 63.0, 0.0, 0.48],\n",
       "       [23.0, 21.42, 9, ..., 59.0, 0.0, 31.0]], dtype=object)"
      ]
     },
     "execution_count": 11,
     "metadata": {},
     "output_type": "execute_result"
    }
   ],
   "source": [
    "# Separando atributos previsores e removendo coluna de data da internação\n",
    "previsores = np.delete(df2.iloc[:, 1:16].values, 1, axis=1)\n",
    "previsores"
   ]
  },
  {
   "cell_type": "code",
   "execution_count": 12,
   "id": "7c4c9de3-7612-4db8-afd2-53aff0cb8682",
   "metadata": {},
   "outputs": [
    {
     "data": {
      "text/plain": [
       "(350, 14)"
      ]
     },
     "execution_count": 12,
     "metadata": {},
     "output_type": "execute_result"
    }
   ],
   "source": [
    "# Análise de linhas e colunas\n",
    "previsores.shape"
   ]
  },
  {
   "cell_type": "code",
   "execution_count": 13,
   "id": "8724729d-1d7f-45b1-97ab-5d60607f8743",
   "metadata": {},
   "outputs": [
    {
     "data": {
      "text/plain": [
       "array([1, 0, 0, 0, 0, 0, 0, 0, 0, 0, 0, 1, 1, 0, 1, 1, 1, 1, 1, 0, 0, 0,\n",
       "       1, 1, 0, 1, 0, 1, 0, 1, 1, 0, 1, 1, 0, 0, 1, 1, 0, 0, 1, 1, 1, 1,\n",
       "       1, 0, 0, 1, 0, 0, 0, 1, 0, 0, 0, 1, 0, 0, 1, 1, 0, 0, 1, 1, 1, 1,\n",
       "       1, 0, 1, 1, 1, 1, 1, 0, 0, 1, 1, 1, 0, 1, 1, 1, 1, 1, 0, 0, 0, 1,\n",
       "       1, 1, 1, 1, 1, 0, 1, 0, 1, 1, 1, 1, 0, 1, 1, 1, 0, 1, 1, 1, 1, 1,\n",
       "       0, 1, 1, 1, 0, 1, 1, 1, 1, 1, 1, 1, 0, 1, 1, 1, 1, 0, 1, 0, 1, 1,\n",
       "       1, 1, 1, 1, 0, 1, 1, 1, 1, 1, 1, 1, 0, 1, 0, 1, 0, 1, 1, 1, 1, 1,\n",
       "       1, 1, 1, 1, 0, 1, 1, 1, 0, 1, 0, 1, 0, 1, 1, 0, 1, 1, 1, 1, 1, 1,\n",
       "       1, 1, 0, 1, 1, 1, 1, 1, 1, 1, 1, 1, 1, 1, 0, 0, 1, 1, 1, 0, 1, 1,\n",
       "       1, 1, 1, 1, 1, 1, 1, 0, 0, 1, 1, 1, 1, 0, 1, 0, 0, 1, 0, 1, 1, 1,\n",
       "       1, 1, 1, 1, 0, 0, 1, 1, 1, 0, 1, 0, 1, 0, 1, 0, 1, 0, 0, 1, 1, 1,\n",
       "       1, 0, 1, 1, 1, 0, 1, 1, 1, 1, 0, 0, 0, 1, 0, 1, 0, 1, 1, 1, 0, 0,\n",
       "       1, 1, 1, 0, 1, 1, 1, 1, 0, 1, 1, 1, 1, 1, 1, 0, 1, 1, 1, 0, 0, 1,\n",
       "       0, 0, 1, 1, 0, 1, 1, 1, 1, 1, 0, 1, 0, 1, 0, 0, 0, 1, 1, 1, 0, 0,\n",
       "       1, 0, 0, 1, 1, 1, 1, 1, 1, 1, 1, 0, 1, 1, 0, 1, 1, 1, 0, 1, 1, 1,\n",
       "       1, 0, 1, 0, 0, 1, 1, 0, 0, 1, 0, 1, 1, 0, 0, 1, 1, 1, 1, 1])"
      ]
     },
     "execution_count": 13,
     "metadata": {},
     "output_type": "execute_result"
    }
   ],
   "source": [
    "# Separando atributo alvo\n",
    "alvo = df2.iloc[:, 16].values\n",
    "alvo"
   ]
  },
  {
   "cell_type": "markdown",
   "id": "9657437e-70ab-4119-9ebc-1eec6bd908cf",
   "metadata": {
    "jp-MarkdownHeadingCollapsed": true
   },
   "source": [
    "# Escalonamento"
   ]
  },
  {
   "cell_type": "code",
   "execution_count": 14,
   "id": "103d3cf2-7b3a-443d-ad50-e96faa4d75a4",
   "metadata": {},
   "outputs": [],
   "source": [
    "# Normalizando os dados no intervalo [0,1]\n",
    "scaler = MinMaxScaler(feature_range=(0, 1))\n",
    "\n",
    "# Aplicação da normalização nos atributos previsores\n",
    "previsores_esc = scaler.fit_transform(previsores)"
   ]
  },
  {
   "cell_type": "markdown",
   "id": "6a528e92-ff5a-4abf-aada-d49d3bf50c19",
   "metadata": {
    "jp-MarkdownHeadingCollapsed": true
   },
   "source": [
    "# OneHotEnconder"
   ]
  },
  {
   "cell_type": "code",
   "execution_count": 15,
   "id": "6f399254-e42a-489a-8b3f-7b794cdffabb",
   "metadata": {},
   "outputs": [],
   "source": [
    "# Aplicando o OneHotEncoder na variável categórica ordinal para \n",
    "encoder = OneHotEncoder(sparse_output=False, drop='first')  # drop='first' para evitar multicolinearidade\n",
    "\n",
    "# Selecionando a coluna \"Linha de Cuidado\"\n",
    "linha_cuidado_encoded = encoder.fit_transform(previsores_esc[:, 2].reshape(-1, 1))  \n",
    "\n",
    "# Removendo a coluna original e concatenando com as novas colunas codificadas\n",
    "previsores_final = np.concatenate((previsores_esc[:, :2], linha_cuidado_encoded, previsores_esc[:, 3:]), axis=1)"
   ]
  },
  {
   "cell_type": "markdown",
   "id": "d3c2f59c-c350-44d3-b8c7-ecb19d440ecf",
   "metadata": {
    "jp-MarkdownHeadingCollapsed": true
   },
   "source": [
    "# Treinamento do modelo e melhor seleção"
   ]
  },
  {
   "cell_type": "code",
   "execution_count": 16,
   "id": "c68dc88e-5ffb-46b8-afb2-df8351d7c6a9",
   "metadata": {},
   "outputs": [],
   "source": [
    "# Dividir os dados em conjuntos de treinamento e teste\n",
    "x_train, x_test, y_train, y_test = train_test_split(previsores_final, alvo, test_size=0.2, random_state=5)"
   ]
  },
  {
   "cell_type": "code",
   "execution_count": 17,
   "id": "6c6e5f3c-77cf-452b-a596-af0d7a011196",
   "metadata": {},
   "outputs": [],
   "source": [
    "# Seleção do modelo de teste\n",
    "modelo = {\n",
    "    'Logistic Regression': LogisticRegression()\n",
    "}\n",
    "\n",
    "# Definição de parâmetros\n",
    "parametros = {\n",
    "    'Logistic Regression': {\n",
    "        'C': [0.1, 1, 10, 100],\n",
    "        'penalty': ['l2', 'l1', 'elasticnet'],\n",
    "        'solver': ['liblinear', 'newton-cg', 'lbfgs', 'saga', 'newton-cholesky', 'sag'],\n",
    "        'max_iter': [100, 200, 500, 1000],\n",
    "        'tol': [0.0001],\n",
    "        'class_weight': ['balanced', None],\n",
    "    }\n",
    "}"
   ]
  },
  {
   "cell_type": "code",
   "execution_count": 18,
   "id": "ba7b1d1c-0ea2-4274-ad6d-ffc127b9a524",
   "metadata": {},
   "outputs": [
    {
     "name": "stdout",
     "output_type": "stream",
     "text": [
      "Logistic Regression: 0.6892857142857143\n",
      "Melhor modelo: {'C': 1, 'class_weight': None, 'dual': False, 'fit_intercept': True, 'intercept_scaling': 1, 'l1_ratio': None, 'max_iter': 100, 'multi_class': 'deprecated', 'n_jobs': None, 'penalty': 'l2', 'random_state': None, 'solver': 'liblinear', 'tol': 0.0001, 'verbose': 0, 'warm_start': False}\n"
     ]
    }
   ],
   "source": [
    "melhor_modelo = None\n",
    "melhor_score = 0\n",
    "\n",
    "for nome_modelo, modelo in modelo.items():\n",
    "    clf = GridSearchCV(modelo, parametros[nome_modelo], cv=5)\n",
    "    clf.fit(x_train, y_train)\n",
    "    score = clf.best_score_\n",
    "    print(f\"{nome_modelo}: {score}\")\n",
    "\n",
    "    if score > melhor_score:\n",
    "        melhor_modelo = clf.best_estimator_\n",
    "        melhor_score = score\n",
    "\n",
    "# Definição do melhor modelo\n",
    "print(\"Melhor modelo:\", melhor_modelo.get_params())"
   ]
  },
  {
   "cell_type": "markdown",
   "id": "0400e59f-30f4-4b36-be6f-c6f9da13bf3d",
   "metadata": {
    "jp-MarkdownHeadingCollapsed": true
   },
   "source": [
    "# Avaliação do Modelo"
   ]
  },
  {
   "cell_type": "code",
   "execution_count": 19,
   "id": "069a4558-2e09-41e3-97fc-af65f6990343",
   "metadata": {},
   "outputs": [
    {
     "name": "stdout",
     "output_type": "stream",
     "text": [
      "              precision    recall  f1-score   support\n",
      "\n",
      "           0       0.80      0.40      0.53        20\n",
      "           1       0.80      0.96      0.87        50\n",
      "\n",
      "    accuracy                           0.80        70\n",
      "   macro avg       0.80      0.68      0.70        70\n",
      "weighted avg       0.80      0.80      0.78        70\n",
      "\n"
     ]
    }
   ],
   "source": [
    "# Análise do modelo com as previsões nos dados de teste\n",
    "y_pred = melhor_modelo.predict(x_test)\n",
    "resul = classification_report(y_test, y_pred)\n",
    "print(resul)"
   ]
  },
  {
   "cell_type": "code",
   "execution_count": 20,
   "id": "f9c418da-12d9-4c8f-968e-7cd0ed5fc7f5",
   "metadata": {},
   "outputs": [
    {
     "data": {
      "text/plain": [
       "1    236\n",
       "0    114\n",
       "Name: count, dtype: int64"
      ]
     },
     "execution_count": 20,
     "metadata": {},
     "output_type": "execute_result"
    }
   ],
   "source": [
    "pd.Series(alvo).value_counts()"
   ]
  }
 ],
 "metadata": {
  "kernelspec": {
   "display_name": "Python 3 (ipykernel)",
   "language": "python",
   "name": "python3"
  },
  "language_info": {
   "codemirror_mode": {
    "name": "ipython",
    "version": 3
   },
   "file_extension": ".py",
   "mimetype": "text/x-python",
   "name": "python",
   "nbconvert_exporter": "python",
   "pygments_lexer": "ipython3",
   "version": "3.12.7"
  }
 },
 "nbformat": 4,
 "nbformat_minor": 5
}
