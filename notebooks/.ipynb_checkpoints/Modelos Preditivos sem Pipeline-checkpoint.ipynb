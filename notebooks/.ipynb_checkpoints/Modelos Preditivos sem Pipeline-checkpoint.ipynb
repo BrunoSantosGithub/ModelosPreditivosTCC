{
 "cells": [
  {
   "cell_type": "markdown",
   "id": "88b5e412-537a-47ab-887d-eb9f1e0eecd3",
   "metadata": {
    "jp-MarkdownHeadingCollapsed": true
   },
   "source": [
    "# Bibliotecas"
   ]
  },
  {
   "cell_type": "code",
   "execution_count": 1,
   "id": "b9af47ba-9967-49c0-bbed-aba35904e03a",
   "metadata": {},
   "outputs": [],
   "source": [
    "# Importação das bibliotecas de manipulação e gráficos\n",
    "import numpy as np\n",
    "import pandas as pd\n",
    "import matplotlib.pyplot as plt\n",
    "import seaborn as sns\n",
    "import plotly.express as px\n",
    "import shap\n",
    "\n",
    "# Bibliotecas sklearn para separação e pré-processamento\n",
    "from sklearn.model_selection import train_test_split, GridSearchCV\n",
    "from sklearn.preprocessing import StandardScaler, OneHotEncoder\n",
    "from sklearn.utils.class_weight import compute_class_weight\n",
    "\n",
    "# Importação das métricas\n",
    "from sklearn.metrics import classification_report, confusion_matrix, roc_curve, auc, roc_auc_score\n",
    "from sklearn.model_selection import cross_val_score, KFold\n",
    "\n",
    "# Importação dos Modelos\n",
    "from sklearn.linear_model import LogisticRegression\n",
    "from xgboost import XGBClassifier\n",
    "from sklearn.naive_bayes import GaussianNB\n",
    "from sklearn.svm import SVC\n",
    "from sklearn.neighbors import KNeighborsClassifier\n",
    "from sklearn.tree import DecisionTreeClassifier\n",
    "from sklearn.ensemble import RandomForestClassifier\n",
    "\n",
    "# Biblioteca para ignorar erros\n",
    "import warnings"
   ]
  },
  {
   "cell_type": "markdown",
   "id": "e0f45eb6-2f5f-403a-8660-5f8c3cb709a9",
   "metadata": {
    "jp-MarkdownHeadingCollapsed": true
   },
   "source": [
    "# Carregamento dos Dados"
   ]
  },
  {
   "cell_type": "code",
   "execution_count": 2,
   "id": "ab82056f-dc6b-484c-9ff0-4cfeed72f68a",
   "metadata": {},
   "outputs": [],
   "source": [
    "# Importando o dataset\n",
    "df = pd.read_csv('C:/Users/bruno/OneDrive/Desktop/AnalisePreditivaUTI/data/dataUTI_tratado.csv', sep=';', encoding='utf-8')"
   ]
  },
  {
   "cell_type": "code",
   "execution_count": 3,
   "id": "5b0080b0-4def-4d08-85e8-5362753029b6",
   "metadata": {},
   "outputs": [
    {
     "data": {
      "text/html": [
       "<div>\n",
       "<style scoped>\n",
       "    .dataframe tbody tr th:only-of-type {\n",
       "        vertical-align: middle;\n",
       "    }\n",
       "\n",
       "    .dataframe tbody tr th {\n",
       "        vertical-align: top;\n",
       "    }\n",
       "\n",
       "    .dataframe thead th {\n",
       "        text-align: right;\n",
       "    }\n",
       "</style>\n",
       "<table border=\"1\" class=\"dataframe\">\n",
       "  <thead>\n",
       "    <tr style=\"text-align: right;\">\n",
       "      <th></th>\n",
       "      <th>ID Registro</th>\n",
       "      <th>Idade</th>\n",
       "      <th>Data de Internação CTI</th>\n",
       "      <th>IMC</th>\n",
       "      <th>Linha de Cuidado</th>\n",
       "      <th>HIV</th>\n",
       "      <th>Tuberculose</th>\n",
       "      <th>AIDS</th>\n",
       "      <th>Frequência Cardíaca</th>\n",
       "      <th>Frequência Respiratória</th>\n",
       "      <th>Creatinina</th>\n",
       "      <th>Leucócitos</th>\n",
       "      <th>pH</th>\n",
       "      <th>Contagem de Plaquetas</th>\n",
       "      <th>Score Respiratório</th>\n",
       "      <th>Bilirrubina</th>\n",
       "      <th>Desfecho UTI</th>\n",
       "      <th>Saída UTI</th>\n",
       "      <th>Tempo na UTI</th>\n",
       "    </tr>\n",
       "  </thead>\n",
       "  <tbody>\n",
       "    <tr>\n",
       "      <th>0</th>\n",
       "      <td>3</td>\n",
       "      <td>45.0</td>\n",
       "      <td>2023-03-29</td>\n",
       "      <td>26.64</td>\n",
       "      <td>DFA</td>\n",
       "      <td>Unchecked</td>\n",
       "      <td>Unchecked</td>\n",
       "      <td>Unchecked</td>\n",
       "      <td>113</td>\n",
       "      <td>27</td>\n",
       "      <td>4.9</td>\n",
       "      <td>28.2</td>\n",
       "      <td>7.33</td>\n",
       "      <td>17.0</td>\n",
       "      <td>3.0</td>\n",
       "      <td>6.80</td>\n",
       "      <td>Transferência inter-hospitalar para outra Enfe...</td>\n",
       "      <td>2023-04-13</td>\n",
       "      <td>15.0</td>\n",
       "    </tr>\n",
       "    <tr>\n",
       "      <th>1</th>\n",
       "      <td>5</td>\n",
       "      <td>45.0</td>\n",
       "      <td>2023-04-05</td>\n",
       "      <td>20.76</td>\n",
       "      <td>Tuberculose</td>\n",
       "      <td>Unchecked</td>\n",
       "      <td>Checked</td>\n",
       "      <td>Unchecked</td>\n",
       "      <td>114</td>\n",
       "      <td>16</td>\n",
       "      <td>0.9</td>\n",
       "      <td>14.2</td>\n",
       "      <td>7.40</td>\n",
       "      <td>352.0</td>\n",
       "      <td>1.0</td>\n",
       "      <td>0.40</td>\n",
       "      <td>Óbito na UTI</td>\n",
       "      <td>2023-04-05</td>\n",
       "      <td>0.0</td>\n",
       "    </tr>\n",
       "    <tr>\n",
       "      <th>2</th>\n",
       "      <td>8</td>\n",
       "      <td>45.0</td>\n",
       "      <td>2023-04-10</td>\n",
       "      <td>19.81</td>\n",
       "      <td>HIV Resp.</td>\n",
       "      <td>Checked</td>\n",
       "      <td>Unchecked</td>\n",
       "      <td>Checked</td>\n",
       "      <td>177</td>\n",
       "      <td>35</td>\n",
       "      <td>0.6</td>\n",
       "      <td>14.4</td>\n",
       "      <td>7.18</td>\n",
       "      <td>413.0</td>\n",
       "      <td>3.0</td>\n",
       "      <td>0.50</td>\n",
       "      <td>Óbito na UTI</td>\n",
       "      <td>2023-04-11</td>\n",
       "      <td>1.0</td>\n",
       "    </tr>\n",
       "    <tr>\n",
       "      <th>3</th>\n",
       "      <td>9</td>\n",
       "      <td>45.0</td>\n",
       "      <td>2023-03-19</td>\n",
       "      <td>28.96</td>\n",
       "      <td>SRAG</td>\n",
       "      <td>Unchecked</td>\n",
       "      <td>Unchecked</td>\n",
       "      <td>Unchecked</td>\n",
       "      <td>40</td>\n",
       "      <td>20</td>\n",
       "      <td>3.8</td>\n",
       "      <td>15.0</td>\n",
       "      <td>7.18</td>\n",
       "      <td>190.0</td>\n",
       "      <td>0.0</td>\n",
       "      <td>0.08</td>\n",
       "      <td>Óbito na UTI</td>\n",
       "      <td>2023-04-11</td>\n",
       "      <td>23.0</td>\n",
       "    </tr>\n",
       "    <tr>\n",
       "      <th>4</th>\n",
       "      <td>10</td>\n",
       "      <td>45.0</td>\n",
       "      <td>2023-04-08</td>\n",
       "      <td>20.70</td>\n",
       "      <td>Tuberculose</td>\n",
       "      <td>Unchecked</td>\n",
       "      <td>Checked</td>\n",
       "      <td>Unchecked</td>\n",
       "      <td>143</td>\n",
       "      <td>34</td>\n",
       "      <td>1.5</td>\n",
       "      <td>12.1</td>\n",
       "      <td>7.09</td>\n",
       "      <td>361.0</td>\n",
       "      <td>3.0</td>\n",
       "      <td>0.10</td>\n",
       "      <td>Óbito na UTI</td>\n",
       "      <td>2023-04-09</td>\n",
       "      <td>1.0</td>\n",
       "    </tr>\n",
       "  </tbody>\n",
       "</table>\n",
       "</div>"
      ],
      "text/plain": [
       "   ID Registro  Idade Data de Internação CTI    IMC Linha de Cuidado  \\\n",
       "0            3   45.0             2023-03-29  26.64              DFA   \n",
       "1            5   45.0             2023-04-05  20.76      Tuberculose   \n",
       "2            8   45.0             2023-04-10  19.81        HIV Resp.   \n",
       "3            9   45.0             2023-03-19  28.96             SRAG   \n",
       "4           10   45.0             2023-04-08  20.70      Tuberculose   \n",
       "\n",
       "         HIV Tuberculose       AIDS  Frequência Cardíaca  \\\n",
       "0  Unchecked   Unchecked  Unchecked                  113   \n",
       "1  Unchecked     Checked  Unchecked                  114   \n",
       "2    Checked   Unchecked    Checked                  177   \n",
       "3  Unchecked   Unchecked  Unchecked                   40   \n",
       "4  Unchecked     Checked  Unchecked                  143   \n",
       "\n",
       "   Frequência Respiratória  Creatinina  Leucócitos    pH  \\\n",
       "0                       27         4.9        28.2  7.33   \n",
       "1                       16         0.9        14.2  7.40   \n",
       "2                       35         0.6        14.4  7.18   \n",
       "3                       20         3.8        15.0  7.18   \n",
       "4                       34         1.5        12.1  7.09   \n",
       "\n",
       "   Contagem de Plaquetas  Score Respiratório  Bilirrubina  \\\n",
       "0                   17.0                 3.0         6.80   \n",
       "1                  352.0                 1.0         0.40   \n",
       "2                  413.0                 3.0         0.50   \n",
       "3                  190.0                 0.0         0.08   \n",
       "4                  361.0                 3.0         0.10   \n",
       "\n",
       "                                        Desfecho UTI   Saída UTI  Tempo na UTI  \n",
       "0  Transferência inter-hospitalar para outra Enfe...  2023-04-13          15.0  \n",
       "1                                       Óbito na UTI  2023-04-05           0.0  \n",
       "2                                       Óbito na UTI  2023-04-11           1.0  \n",
       "3                                       Óbito na UTI  2023-04-11          23.0  \n",
       "4                                       Óbito na UTI  2023-04-09           1.0  "
      ]
     },
     "execution_count": 3,
     "metadata": {},
     "output_type": "execute_result"
    }
   ],
   "source": [
    "# Exibir amostra do dataset\n",
    "df.head()"
   ]
  },
  {
   "cell_type": "code",
   "execution_count": 4,
   "id": "91e0baa7-beb5-4f4f-8a76-9edfc38ab68d",
   "metadata": {},
   "outputs": [
    {
     "data": {
      "text/plain": [
       "(361, 19)"
      ]
     },
     "execution_count": 4,
     "metadata": {},
     "output_type": "execute_result"
    }
   ],
   "source": [
    "# Análise de linhas e colunas\n",
    "df.shape"
   ]
  },
  {
   "cell_type": "code",
   "execution_count": 5,
   "id": "54150c56-c721-4561-b33b-aa10ae23fd80",
   "metadata": {},
   "outputs": [
    {
     "data": {
      "text/html": [
       "<div>\n",
       "<style scoped>\n",
       "    .dataframe tbody tr th:only-of-type {\n",
       "        vertical-align: middle;\n",
       "    }\n",
       "\n",
       "    .dataframe tbody tr th {\n",
       "        vertical-align: top;\n",
       "    }\n",
       "\n",
       "    .dataframe thead th {\n",
       "        text-align: right;\n",
       "    }\n",
       "</style>\n",
       "<table border=\"1\" class=\"dataframe\">\n",
       "  <thead>\n",
       "    <tr style=\"text-align: right;\">\n",
       "      <th></th>\n",
       "      <th>ID Registro</th>\n",
       "      <th>Idade</th>\n",
       "      <th>IMC</th>\n",
       "      <th>Frequência Cardíaca</th>\n",
       "      <th>Frequência Respiratória</th>\n",
       "      <th>Creatinina</th>\n",
       "      <th>Leucócitos</th>\n",
       "      <th>pH</th>\n",
       "      <th>Contagem de Plaquetas</th>\n",
       "      <th>Score Respiratório</th>\n",
       "      <th>Bilirrubina</th>\n",
       "      <th>Tempo na UTI</th>\n",
       "    </tr>\n",
       "  </thead>\n",
       "  <tbody>\n",
       "    <tr>\n",
       "      <th>count</th>\n",
       "      <td>361.000000</td>\n",
       "      <td>361.000000</td>\n",
       "      <td>361.000000</td>\n",
       "      <td>361.000000</td>\n",
       "      <td>361.000000</td>\n",
       "      <td>361.000000</td>\n",
       "      <td>361.000000</td>\n",
       "      <td>361.000000</td>\n",
       "      <td>361.000000</td>\n",
       "      <td>361.000000</td>\n",
       "      <td>361.000000</td>\n",
       "      <td>361.000000</td>\n",
       "    </tr>\n",
       "    <tr>\n",
       "      <th>mean</th>\n",
       "      <td>221.603878</td>\n",
       "      <td>46.091413</td>\n",
       "      <td>20.472188</td>\n",
       "      <td>104.659280</td>\n",
       "      <td>25.487535</td>\n",
       "      <td>1.693795</td>\n",
       "      <td>10.562188</td>\n",
       "      <td>7.366648</td>\n",
       "      <td>228.161773</td>\n",
       "      <td>1.069252</td>\n",
       "      <td>1.089557</td>\n",
       "      <td>13.343490</td>\n",
       "    </tr>\n",
       "    <tr>\n",
       "      <th>std</th>\n",
       "      <td>133.282807</td>\n",
       "      <td>16.714430</td>\n",
       "      <td>5.994071</td>\n",
       "      <td>30.132167</td>\n",
       "      <td>6.880769</td>\n",
       "      <td>1.792332</td>\n",
       "      <td>6.750426</td>\n",
       "      <td>0.119968</td>\n",
       "      <td>148.110802</td>\n",
       "      <td>1.205622</td>\n",
       "      <td>3.196038</td>\n",
       "      <td>16.139445</td>\n",
       "    </tr>\n",
       "    <tr>\n",
       "      <th>min</th>\n",
       "      <td>3.000000</td>\n",
       "      <td>0.000000</td>\n",
       "      <td>9.130000</td>\n",
       "      <td>37.000000</td>\n",
       "      <td>7.000000</td>\n",
       "      <td>0.200000</td>\n",
       "      <td>0.300000</td>\n",
       "      <td>6.900000</td>\n",
       "      <td>2.000000</td>\n",
       "      <td>0.000000</td>\n",
       "      <td>0.030000</td>\n",
       "      <td>0.000000</td>\n",
       "    </tr>\n",
       "    <tr>\n",
       "      <th>25%</th>\n",
       "      <td>106.000000</td>\n",
       "      <td>33.000000</td>\n",
       "      <td>16.650000</td>\n",
       "      <td>85.000000</td>\n",
       "      <td>20.000000</td>\n",
       "      <td>0.770000</td>\n",
       "      <td>5.500000</td>\n",
       "      <td>7.330000</td>\n",
       "      <td>117.000000</td>\n",
       "      <td>0.000000</td>\n",
       "      <td>0.200000</td>\n",
       "      <td>4.000000</td>\n",
       "    </tr>\n",
       "    <tr>\n",
       "      <th>50%</th>\n",
       "      <td>202.000000</td>\n",
       "      <td>45.000000</td>\n",
       "      <td>19.720000</td>\n",
       "      <td>110.000000</td>\n",
       "      <td>25.000000</td>\n",
       "      <td>1.000000</td>\n",
       "      <td>9.500000</td>\n",
       "      <td>7.400000</td>\n",
       "      <td>200.000000</td>\n",
       "      <td>1.000000</td>\n",
       "      <td>0.400000</td>\n",
       "      <td>8.000000</td>\n",
       "    </tr>\n",
       "    <tr>\n",
       "      <th>75%</th>\n",
       "      <td>350.000000</td>\n",
       "      <td>58.000000</td>\n",
       "      <td>23.680000</td>\n",
       "      <td>127.000000</td>\n",
       "      <td>30.000000</td>\n",
       "      <td>1.710000</td>\n",
       "      <td>14.000000</td>\n",
       "      <td>7.430000</td>\n",
       "      <td>326.000000</td>\n",
       "      <td>2.000000</td>\n",
       "      <td>0.750000</td>\n",
       "      <td>17.000000</td>\n",
       "    </tr>\n",
       "    <tr>\n",
       "      <th>max</th>\n",
       "      <td>454.000000</td>\n",
       "      <td>92.000000</td>\n",
       "      <td>62.500000</td>\n",
       "      <td>177.000000</td>\n",
       "      <td>47.000000</td>\n",
       "      <td>12.000000</td>\n",
       "      <td>41.900000</td>\n",
       "      <td>7.930000</td>\n",
       "      <td>769.000000</td>\n",
       "      <td>4.000000</td>\n",
       "      <td>45.000000</td>\n",
       "      <td>131.000000</td>\n",
       "    </tr>\n",
       "  </tbody>\n",
       "</table>\n",
       "</div>"
      ],
      "text/plain": [
       "       ID Registro       Idade         IMC  Frequência Cardíaca  \\\n",
       "count   361.000000  361.000000  361.000000           361.000000   \n",
       "mean    221.603878   46.091413   20.472188           104.659280   \n",
       "std     133.282807   16.714430    5.994071            30.132167   \n",
       "min       3.000000    0.000000    9.130000            37.000000   \n",
       "25%     106.000000   33.000000   16.650000            85.000000   \n",
       "50%     202.000000   45.000000   19.720000           110.000000   \n",
       "75%     350.000000   58.000000   23.680000           127.000000   \n",
       "max     454.000000   92.000000   62.500000           177.000000   \n",
       "\n",
       "       Frequência Respiratória  Creatinina  Leucócitos          pH  \\\n",
       "count               361.000000  361.000000  361.000000  361.000000   \n",
       "mean                 25.487535    1.693795   10.562188    7.366648   \n",
       "std                   6.880769    1.792332    6.750426    0.119968   \n",
       "min                   7.000000    0.200000    0.300000    6.900000   \n",
       "25%                  20.000000    0.770000    5.500000    7.330000   \n",
       "50%                  25.000000    1.000000    9.500000    7.400000   \n",
       "75%                  30.000000    1.710000   14.000000    7.430000   \n",
       "max                  47.000000   12.000000   41.900000    7.930000   \n",
       "\n",
       "       Contagem de Plaquetas  Score Respiratório  Bilirrubina  Tempo na UTI  \n",
       "count             361.000000          361.000000   361.000000    361.000000  \n",
       "mean              228.161773            1.069252     1.089557     13.343490  \n",
       "std               148.110802            1.205622     3.196038     16.139445  \n",
       "min                 2.000000            0.000000     0.030000      0.000000  \n",
       "25%               117.000000            0.000000     0.200000      4.000000  \n",
       "50%               200.000000            1.000000     0.400000      8.000000  \n",
       "75%               326.000000            2.000000     0.750000     17.000000  \n",
       "max               769.000000            4.000000    45.000000    131.000000  "
      ]
     },
     "execution_count": 5,
     "metadata": {},
     "output_type": "execute_result"
    }
   ],
   "source": [
    "# Análise descritiva do dataset\n",
    "df.describe()"
   ]
  },
  {
   "cell_type": "code",
   "execution_count": 6,
   "id": "7ea12444-9a39-4206-8925-241be72ea5c0",
   "metadata": {},
   "outputs": [],
   "source": [
    "# Removendo avisos de warnings\n",
    "warnings.filterwarnings(\"ignore\")"
   ]
  },
  {
   "cell_type": "markdown",
   "id": "8b9de430-d690-4e5b-b444-b76caeab6b95",
   "metadata": {
    "jp-MarkdownHeadingCollapsed": true
   },
   "source": [
    "# Transformação de Variáveis"
   ]
  },
  {
   "cell_type": "code",
   "execution_count": 7,
   "id": "965cdf49-0792-402a-adc2-f92a0f3aa478",
   "metadata": {},
   "outputs": [],
   "source": [
    "# Criação de uma cópia para transformação\n",
    "df2 = df.copy()"
   ]
  },
  {
   "cell_type": "code",
   "execution_count": 8,
   "id": "87a23131-9675-45ee-80c8-a92272c4e78b",
   "metadata": {},
   "outputs": [],
   "source": [
    "# Transformação das variáveis categóricas:\n",
    "df2['Linha de Cuidado'].replace({'DFA': 0, 'Chagas ICC': 1, 'HIV (outros)': 2, 'HIV Neuro': 3, 'HIV Resp.': 4, 'HTLV': 5, 'Monkeypox': 6, 'SRAG': 7, 'Tuberculose': 8, 'Outros': 9}, inplace=True)\n",
    "df2['HIV'].replace({'Unchecked': 0, 'Checked': 1}, inplace=True)\n",
    "df2['Tuberculose'].replace({'Unchecked': 0, 'Checked': 1}, inplace=True)\n",
    "df2['AIDS'].replace({'Unchecked': 0, 'Checked': 1}, inplace=True)\n",
    "df2['Desfecho UTI'] = np.where(df2['Desfecho UTI'] == 'Óbito na UTI', 0, 1)"
   ]
  },
  {
   "cell_type": "markdown",
   "id": "dfd7742b-0951-4551-82f5-20c1ecec7179",
   "metadata": {},
   "source": [
    "Linha de Cuidado = DFA (0), Chagas ICC (1), HIV (outros) (2), HIV Neuro (3), HIV Resp. (4), HTLV (5), Monkeypox (6), SRAG (7), Tuberculose (8), Outros (9)\n",
    "\n",
    "HIV = Unchecked (0), Checked (1)\n",
    "\n",
    "Tuberculose = Unchecked (0), Checked (1)\n",
    "\n",
    "AIDS = Unchecked (0), Checked (1)\n",
    "\n",
    "Desfecho UTI = Óbito na UTI (0), Outros (1)"
   ]
  },
  {
   "cell_type": "code",
   "execution_count": 9,
   "id": "026c2ccf-60e5-4aac-aa23-30e41269ca30",
   "metadata": {},
   "outputs": [
    {
     "data": {
      "image/png": "[encoded data removed]",
      "text/plain": [
       "<Figure size 2000x1500 with 6 Axes>"
      ]
     },
     "metadata": {},
     "output_type": "display_data"
    }
   ],
   "source": [
    "# Grid de variáveis transformadas\n",
    "fig, axes = plt.subplots(3, 2, figsize=(20, 15))\n",
    "\n",
    "sns.countplot(ax=axes[0, 0], y='Linha de Cuidado', data=df2)\n",
    "axes[0, 0].set_title('Linha de Cuidado')\n",
    "for container in axes[0, 0].containers:\n",
    "    axes[0, 0].bar_label(container, label_type='edge', fontsize=10, padding=3)\n",
    "\n",
    "sns.countplot(ax=axes[0, 1], y='HIV', data=df2)\n",
    "axes[0, 1].set_title('HIV')\n",
    "for container in axes[0, 1].containers:\n",
    "    axes[0, 1].bar_label(container, label_type='edge', fontsize=10, padding=3)\n",
    "\n",
    "sns.countplot(ax=axes[1, 0], y='Tuberculose', data=df2)\n",
    "axes[1, 0].set_title('Tuberculose')\n",
    "for container in axes[1, 0].containers:\n",
    "    axes[1, 0].bar_label(container, label_type='edge', fontsize=10, padding=3)\n",
    "\n",
    "sns.countplot(ax=axes[1, 1], y='AIDS', data=df2)\n",
    "axes[1, 1].set_title('AIDS')\n",
    "for container in axes[1, 1].containers:\n",
    "    axes[1, 1].bar_label(container, label_type='edge', fontsize=10, padding=3)\n",
    "\n",
    "sns.countplot(ax=axes[2, 0], y='Desfecho UTI', data=df2)\n",
    "axes[2, 0].set_title('Desfecho UTI')\n",
    "for container in axes[2, 0].containers:\n",
    "    axes[2, 0].bar_label(container, label_type='edge', fontsize=10, padding=3)\n",
    "\n",
    "# Remover o eixo vazio\n",
    "axes[2, 1].axis('off')\n",
    "\n",
    "plt.tight_layout()\n",
    "plt.show()"
   ]
  },
  {
   "cell_type": "code",
   "execution_count": 10,
   "id": "c1a37534-e3bb-4a6a-96a7-1c6393071490",
   "metadata": {},
   "outputs": [
    {
     "data": {
      "text/plain": [
       "ID Registro                  int64\n",
       "Idade                      float64\n",
       "Data de Internação CTI      object\n",
       "IMC                        float64\n",
       "Linha de Cuidado             int64\n",
       "HIV                          int64\n",
       "Tuberculose                  int64\n",
       "AIDS                         int64\n",
       "Frequência Cardíaca          int64\n",
       "Frequência Respiratória      int64\n",
       "Creatinina                 float64\n",
       "Leucócitos                 float64\n",
       "pH                         float64\n",
       "Contagem de Plaquetas      float64\n",
       "Score Respiratório         float64\n",
       "Bilirrubina                float64\n",
       "Desfecho UTI                 int32\n",
       "Saída UTI                   object\n",
       "Tempo na UTI               float64\n",
       "dtype: object"
      ]
     },
     "execution_count": 10,
     "metadata": {},
     "output_type": "execute_result"
    }
   ],
   "source": [
    "# Análise dos tipos de variáveis\n",
    "df2.dtypes"
   ]
  },
  {
   "cell_type": "markdown",
   "id": "8e5779cf-a016-4e46-a973-2701ecf27e82",
   "metadata": {
    "jp-MarkdownHeadingCollapsed": true
   },
   "source": [
    "# Atributos Previsores e Alvo"
   ]
  },
  {
   "cell_type": "code",
   "execution_count": 11,
   "id": "4f42a791-47ec-42a3-b2a3-5b7c370bc93e",
   "metadata": {},
   "outputs": [],
   "source": [
    "# Seleção dos atributos (features) e da variável alvo (target)\n",
    "features = [\"Idade\", \"IMC\", \"Linha de Cuidado\", \"HIV\", \"Tuberculose\", \"AIDS\", \"Frequência Cardíaca\", \"Frequência Respiratória\", \"Creatinina\", \"Leucócitos\", \"pH\", \"Contagem de Plaquetas\", \"Score Respiratório\", \"Bilirrubina\"]\n",
    "x = df2[features]\n",
    "y = df2[\"Desfecho UTI\"]"
   ]
  },
  {
   "cell_type": "markdown",
   "id": "130db993-13ae-4219-a96b-51ce328767e1",
   "metadata": {
    "jp-MarkdownHeadingCollapsed": true
   },
   "source": [
    "# Separação de treino e teste"
   ]
  },
  {
   "cell_type": "code",
   "execution_count": 12,
   "id": "9ee26f5a-abca-4174-9c14-585af565d423",
   "metadata": {},
   "outputs": [],
   "source": [
    "x_train, x_test, y_train, y_test = train_test_split(x, y, test_size=0.2, random_state=5, stratify=y)"
   ]
  },
  {
   "cell_type": "markdown",
   "id": "79fed75b-0462-4f51-9950-1de422fbdf78",
   "metadata": {
    "jp-MarkdownHeadingCollapsed": true
   },
   "source": [
    "# Escalonamento e OneHotEncoder"
   ]
  },
  {
   "cell_type": "code",
   "execution_count": 13,
   "id": "94fb53fb-4093-4232-9898-6b74691b638a",
   "metadata": {},
   "outputs": [],
   "source": [
    "# Definindo as colunas numéricas e categóricas\n",
    "num_features = [\"Idade\", \"IMC\", \"Frequência Cardíaca\", \"Frequência Respiratória\", \"Creatinina\", \"Leucócitos\", \"pH\", \"Contagem de Plaquetas\", \"Score Respiratório\", \"Bilirrubina\"]\n",
    "cat_features = [\"Linha de Cuidado\", \"HIV\", \"Tuberculose\", \"AIDS\"]"
   ]
  },
  {
   "cell_type": "code",
   "execution_count": 14,
   "id": "11424747-204c-4f83-a77b-ab3604da793e",
   "metadata": {},
   "outputs": [],
   "source": [
    "# Aplicação do StandardScaler nas variáveis numéricas\n",
    "scaler = StandardScaler()\n",
    "x_train_num = scaler.fit_transform(x_train[num_features])\n",
    "x_test_num = scaler.transform(x_test[num_features])"
   ]
  },
  {
   "cell_type": "code",
   "execution_count": 15,
   "id": "ed629a40-ec47-457e-b13d-f6acb93795ba",
   "metadata": {},
   "outputs": [],
   "source": [
    "# Aplicação do OneHotEncoder nas variáveis categóricas\n",
    "encoder = OneHotEncoder(sparse_output=False, handle_unknown='ignore')\n",
    "x_train_cat = encoder.fit_transform(x_train[cat_features])\n",
    "x_test_cat = encoder.transform(x_test[cat_features])"
   ]
  },
  {
   "cell_type": "code",
   "execution_count": 16,
   "id": "186bd63a-b504-4c09-a486-0ad4e1a0cf08",
   "metadata": {},
   "outputs": [],
   "source": [
    "# Combinar features numéricas e categóricas\n",
    "x_train_processed = np.hstack((x_train_num, x_train_cat))\n",
    "x_test_processed = np.hstack((x_test_num, x_test_cat))"
   ]
  },
  {
   "cell_type": "markdown",
   "id": "46ef31b0-b8c2-437d-b486-5df1b9e25fad",
   "metadata": {
    "jp-MarkdownHeadingCollapsed": true
   },
   "source": [
    "# Treinamento e Seleção do Modelo"
   ]
  },
  {
   "cell_type": "code",
   "execution_count": 17,
   "id": "5295150a-a1a7-400c-bec4-c97237c15fc7",
   "metadata": {},
   "outputs": [],
   "source": [
    "# Aplicação do class weight\n",
    "class_weights = compute_class_weight('balanced', classes=np.unique(y_train), y=y_train)\n",
    "class_weight_dict = {0: class_weights[0], 1: class_weights[1]}"
   ]
  },
  {
   "cell_type": "code",
   "execution_count": 39,
   "id": "ed18bde6-a29e-4359-9fc9-15ec8f937b6f",
   "metadata": {},
   "outputs": [],
   "source": [
    "# Definação dos modelos a serem testados\n",
    "models = {\n",
    "    'Logistic Regression': LogisticRegression(random_state=5),\n",
    "    'XGBoost': XGBClassifier(random_state=5, eval_metric='logloss'),\n",
    "    'Naive Bayes': GaussianNB(),\n",
    "    'SVM': SVC(random_state=5, probability=True),\n",
    "    'KNN': KNeighborsClassifier(),\n",
    "    'Decision Tree': DecisionTreeClassifier(random_state=5),\n",
    "    'Random Forest': RandomForestClassifier(random_state=5)\n",
    "}\n",
    "\n",
    "# Definição de parâmetros para testar os modelos\n",
    "parameters = {\n",
    "    # Regressão Logística\n",
    "    'Logistic Regression': {\n",
    "        'C': [0.1, 1, 10, 100],\n",
    "        'penalty': ['l1', 'l2'],\n",
    "        'solver': ['liblinear', 'saga'],\n",
    "        'max_iter': [100, 200, 500, 1000],\n",
    "        'tol': [0.0001],\n",
    "        'class_weight': [class_weight_dict]\n",
    "    },\n",
    "\n",
    "    # XGBoost\n",
    "    'XGBoost': {\n",
    "        'n_estimators': [100, 200],\n",
    "        'max_depth': [3, 5, 7],\n",
    "        'learning_rate': [0.01, 0.1, 0.2],\n",
    "        'scale_pos_weight': [class_weight_dict[1] / class_weight_dict[0]]\n",
    "    },\n",
    "\n",
    "    # Naive Bayes\n",
    "    'Naive Bayes': {},\n",
    "\n",
    "    # SVM\n",
    "    'SVM': {\n",
    "        'C': [0.1, 1, 10],\n",
    "        'kernel': ['linear', 'rbf'],\n",
    "        'gamma': ['scale', 'auto'],\n",
    "        'class_weight': [class_weight_dict]\n",
    "    },\n",
    "\n",
    "    # KNN\n",
    "    'KNN': {\n",
    "        'n_neighbors': [3, 5, 7],\n",
    "        'weights': ['uniform', 'distance']\n",
    "    },\n",
    "\n",
    "    # Árvore de Decisão\n",
    "    'Decision Tree': {\n",
    "        'max_depth': [None, 3, 5, 7],\n",
    "        'min_samples_split': [2, 5, 10],\n",
    "        'min_samples_leaf': [1, 2, 4],\n",
    "        'class_weight': [class_weight_dict]\n",
    "    },\n",
    "\n",
    "    # Random Forest\n",
    "    'Random Forest': {\n",
    "        'n_estimators': [100, 200],\n",
    "        'max_depth': [None, 3, 5, 7],\n",
    "        'min_samples_split': [2, 5, 10],\n",
    "        'min_samples_leaf': [1, 2, 4],\n",
    "        'class_weight': [class_weight_dict]\n",
    "    }\n",
    "}"
   ]
  },
  {
   "cell_type": "code",
   "execution_count": 19,
   "id": "b6be300d-5de6-4b17-8ce3-1643e58d2f3c",
   "metadata": {},
   "outputs": [],
   "source": [
    "# Removendo avisos de warnings\n",
    "warnings.filterwarnings(\"ignore\")"
   ]
  },
  {
   "cell_type": "code",
   "execution_count": 40,
   "id": "4ab614a3-6deb-4b70-b2a2-290447534c49",
   "metadata": {},
   "outputs": [
    {
     "name": "stdout",
     "output_type": "stream",
     "text": [
      "\n",
      "--- Treinando Logistic Regression ---\n",
      "Melhor ROC-AUC: 0.748\n",
      "\n",
      "--- Treinando XGBoost ---\n",
      "Melhor ROC-AUC: 0.783\n",
      "\n",
      "--- Treinando Naive Bayes ---\n",
      "Melhor ROC-AUC: 0.658\n",
      "\n",
      "--- Treinando SVM ---\n",
      "Melhor ROC-AUC: 0.768\n",
      "\n",
      "--- Treinando KNN ---\n",
      "Melhor ROC-AUC: 0.733\n",
      "\n",
      "--- Treinando Decision Tree ---\n",
      "Melhor ROC-AUC: 0.636\n",
      "\n",
      "--- Treinando Random Forest ---\n",
      "Melhor ROC-AUC: 0.779\n",
      "\n",
      "==================================================\n",
      "Melhor modelo geral: XGBClassifier\n",
      "ROC-AUC médio: 0.783\n"
     ]
    }
   ],
   "source": [
    "best_model = None\n",
    "best_score = 0\n",
    "\n",
    "for model_name in models:\n",
    "    print(f\"\\n--- Treinando {model_name} ---\")\n",
    "    clf = GridSearchCV(\n",
    "        models[model_name],\n",
    "        parameters[model_name],\n",
    "        cv=5,\n",
    "        scoring=['f1', 'accuracy', 'roc_auc'], \n",
    "        refit='roc_auc',\n",
    "        n_jobs=-1\n",
    "    )\n",
    "    clf.fit(x_train_processed, y_train)\n",
    "    \n",
    "    score = clf.best_score_\n",
    "    print(f\"Melhor ROC-AUC: {score:.3f}\")\n",
    "    \n",
    "    if score > best_score:\n",
    "        best_model = clf.best_estimator_\n",
    "        best_score = score\n",
    "\n",
    "print(\"\\n\" + \"=\"*50)\n",
    "print(f\"Melhor modelo geral: {best_model.__class__.__name__}\")\n",
    "print(f\"ROC-AUC médio: {best_score:.3f}\")"
   ]
  },
  {
   "cell_type": "markdown",
   "id": "3232092e-3335-4c6d-be47-78eafaf20734",
   "metadata": {
    "jp-MarkdownHeadingCollapsed": true
   },
   "source": [
    "# Avaliação do Modelo"
   ]
  },
  {
   "cell_type": "code",
   "execution_count": 41,
   "id": "5b970e12-474d-46f4-9916-d08e05d829e9",
   "metadata": {},
   "outputs": [
    {
     "name": "stdout",
     "output_type": "stream",
     "text": [
      "\n",
      "ROC-AUC no Teste: 0.739\n",
      "              precision    recall  f1-score   support\n",
      "\n",
      "           0       0.55      0.46      0.50        24\n",
      "           1       0.75      0.82      0.78        49\n",
      "\n",
      "    accuracy                           0.70        73\n",
      "   macro avg       0.65      0.64      0.64        73\n",
      "weighted avg       0.69      0.70      0.69        73\n",
      "\n"
     ]
    }
   ],
   "source": [
    "# Previsões finais\n",
    "y_pred = best_model.predict(x_test_processed)\n",
    "y_proba = best_model.predict_proba(x_test_processed)[:,1]\n",
    "\n",
    "print(f\"\\nROC-AUC no Teste: {roc_auc_score(y_test, y_proba):.3f}\")\n",
    "print(classification_report(y_test, y_pred))"
   ]
  },
  {
   "cell_type": "code",
   "execution_count": 42,
   "id": "165430ea-f6ca-4267-a9bf-3feb023f2763",
   "metadata": {},
   "outputs": [
    {
     "data": {
      "image/png": "[encoded data removed]",
      "text/plain": [
       "<Figure size 800x600 with 2 Axes>"
      ]
     },
     "metadata": {},
     "output_type": "display_data"
    }
   ],
   "source": [
    "# Calcule a matriz de confusão\n",
    "cm = confusion_matrix(y_test, y_pred, labels = [0, 1])\n",
    "\n",
    "# Crie um heatmap da matriz de confusão usando seaborn\n",
    "plt.figure(figsize=(8, 6))\n",
    "sns.heatmap(cm, annot=True, fmt='d', cmap='Blues', \n",
    "            xticklabels=['Óbito', 'Não óbito'],\n",
    "            yticklabels=['Óbito', 'Não óbito'])\n",
    "plt.xlabel('Previsto')\n",
    "plt.ylabel('Real')\n",
    "plt.title('Matriz de Confusão')\n",
    "plt.show()"
   ]
  },
  {
   "cell_type": "code",
   "execution_count": 43,
   "id": "f1c80ac8-fff0-4fda-99b5-9c914a84d4fa",
   "metadata": {},
   "outputs": [
    {
     "name": "stdout",
     "output_type": "stream",
     "text": [
      "\n",
      "Validação Cruzada - ROC-AUC Scores: [0.77734878 0.77573529 0.75438596 0.93006993 0.7820122 ]\n",
      "Média do ROC-AUC na Validação Cruzada: 0.804\n",
      "Desvio Padrão do ROC-AUC na Validação Cruzada: 0.064\n"
     ]
    }
   ],
   "source": [
    "# Validação cruzada para o melhor modelo\n",
    "kf = KFold(n_splits=5, shuffle=True, random_state=5)\n",
    "\n",
    "cv_scores = cross_val_score(best_model, x_train_processed, y_train, cv=kf, scoring='roc_auc')\n",
    "\n",
    "print(\"\\nValidação Cruzada - ROC-AUC Scores:\", cv_scores)\n",
    "print(f\"Média do ROC-AUC na Validação Cruzada: {cv_scores.mean():.3f}\")\n",
    "print(f\"Desvio Padrão do ROC-AUC na Validação Cruzada: {cv_scores.std():.3f}\")\n"
   ]
  },
  {
   "cell_type": "code",
   "execution_count": 23,
   "id": "6add3680-854a-4632-998a-f0d158e10105",
   "metadata": {},
   "outputs": [
    {
     "data": {
      "image/png": "[encoded data removed]",
      "text/plain": [
       "<Figure size 1000x600 with 1 Axes>"
      ]
     },
     "metadata": {},
     "output_type": "display_data"
    }
   ],
   "source": [
    "# Análise de importância das features para o melhor modelo\n",
    "importances = best_model.feature_importances_\n",
    "feature_names = num_features + list(encoder.get_feature_names_out(cat_features))\n",
    "\n",
    "# Criar um DataFrame para visualização\n",
    "feature_importance_df = pd.DataFrame({'Feature': feature_names, 'Importance': importances})\n",
    "feature_importance_df = feature_importance_df.sort_values(by='Importance', ascending=False)\n",
    "\n",
    "# Plotar a importância das features\n",
    "plt.figure(figsize=(10, 6))\n",
    "sns.barplot(x='Importance', y='Feature', data=feature_importance_df)\n",
    "plt.title('Importância das Features - Random Forest')\n",
    "plt.show()"
   ]
  }
 ],
 "metadata": {
  "kernelspec": {
   "display_name": "Python 3 (ipykernel)",
   "language": "python",
   "name": "python3"
  },
  "language_info": {
   "codemirror_mode": {
    "name": "ipython",
    "version": 3
   },
   "file_extension": ".py",
   "mimetype": "text/x-python",
   "name": "python",
   "nbconvert_exporter": "python",
   "pygments_lexer": "ipython3",
   "version": "3.12.7"
  }
 },
 "nbformat": 4,
 "nbformat_minor": 5
}
